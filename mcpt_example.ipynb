{
 "cells": [
  {
   "cell_type": "code",
   "execution_count": 5,
   "metadata": {},
   "outputs": [],
   "source": [
    "import numpy as np\n",
    "import pandas as pd\n",
    "\n",
    "import univariate"
   ]
  },
  {
   "cell_type": "code",
   "execution_count": 12,
   "metadata": {},
   "outputs": [
    {
     "data": {
      "text/plain": [
       "8"
      ]
     },
     "execution_count": 12,
     "metadata": {},
     "output_type": "execute_result"
    }
   ],
   "source": [
    "import numba\n",
    "numba.config.NUMBA_DEFAULT_NUM_THREADS"
   ]
  },
  {
   "cell_type": "code",
   "execution_count": 6,
   "metadata": {},
   "outputs": [],
   "source": [
    "# Example #1: Simple Controlled\n",
    "# There are two independent variables which are x0 and x1 which are the sum of \n",
    "# random variables (x2,x3) and (x4,x5) respectively. The dependent variable, y,\n",
    "# is the sum of x0 and x1. Therefore, the feature evaluation should reveal\n",
    "# a strong association between the dependent variable and variables x0 through x5\n",
    "\n",
    "n_obs = 50000\n",
    "n_cols = 200\n",
    "\n",
    "x = np.random.random_sample(n_obs * n_cols)\n",
    "x = np.reshape(x, (n_obs, n_cols))\n",
    "\n",
    "#sum23\n",
    "x[:,0] = x[:,2] + x[:,3]\n",
    "#sum45\n",
    "x[:,1] = x[:,4] + x[:,5]\n",
    "\n",
    "# Dependent variable (sum1234)\n",
    "y = x[:,0] + x[:,1]\n",
    "\n",
    "n_bins_x = 3\n",
    "n_bins_y = 3\n",
    "\n",
    "n_reps = 100"
   ]
  },
  {
   "cell_type": "code",
   "execution_count": 7,
   "metadata": {},
   "outputs": [
    {
     "name": "stdout",
     "output_type": "stream",
     "text": [
      "Wall time: 1.35 s\n"
     ]
    }
   ],
   "source": [
    "# First timing will include time to compile the numba code\n",
    "%time info_matrix = univariate.screen_univariate(x, y, method='discrete', measure='mi', \\\n",
    "                                                 n_bins_x=n_bins_x, n_bins_y=n_bins_y, \\\n",
    "                                                 n_reps=n_reps, cscv_folds=None, target='cpu')"
   ]
  },
  {
   "cell_type": "code",
   "execution_count": null,
   "metadata": {},
   "outputs": [],
   "source": [
    "# Second timing should be actual time to complete\n",
    "%time info_matrix = univariate.screen_univariate(x, y, method='discrete', measure='mi', \\\n",
    "                                                 n_bins_x=n_bins_x, n_bins_y=n_bins_y, \\\n",
    "                                                 n_reps=n_reps, cscv_folds=None, target='cpu')"
   ]
  },
  {
   "cell_type": "code",
   "execution_count": 11,
   "metadata": {},
   "outputs": [
    {
     "name": "stdout",
     "output_type": "stream",
     "text": [
      "               MI  Solo p-value  Unbiased p-value\n",
      "sum23    0.210773      0.009901          0.009901\n",
      "sum45    0.205890      0.009901          0.009901\n",
      "rand2    0.098321      0.009901          0.009901\n",
      "rand3    0.096504      0.009901          0.009901\n",
      "rand4    0.095109      0.009901          0.009901\n",
      "rand5    0.095797      0.009901          0.009901\n",
      "rand6    0.000006      0.940594          0.990099\n",
      "rand7    0.000006      0.970297          0.990099\n",
      "rand8    0.000056      0.257426          0.990099\n",
      "rand9    0.000057      0.128713          0.990099\n",
      "rand10   0.000041      0.366337          0.990099\n",
      "rand11   0.000022      0.702970          0.990099\n",
      "rand12   0.000026      0.633663          0.990099\n",
      "rand13   0.000004      0.980198          0.990099\n",
      "rand14   0.000071      0.128713          0.990099\n",
      "rand15   0.000031      0.554455          0.990099\n",
      "rand16   0.000064      0.168317          0.990099\n",
      "rand17   0.000013      0.881188          0.990099\n",
      "rand18   0.000016      0.722772          0.990099\n",
      "rand19   0.000042      0.386139          0.990099\n",
      "rand20   0.000046      0.405941          0.990099\n",
      "rand21   0.000004      0.960396          0.990099\n",
      "rand22   0.000024      0.673267          0.990099\n",
      "rand23   0.000027      0.594059          0.990099\n",
      "rand24   0.000059      0.207921          0.990099\n",
      "rand25   0.000017      0.762376          0.990099\n",
      "rand26   0.000067      0.188119          0.990099\n",
      "rand27   0.000110      0.039604          0.990099\n",
      "rand28   0.000076      0.138614          0.990099\n",
      "rand29   0.000057      0.247525          0.990099\n",
      "...           ...           ...               ...\n",
      "rand170  0.000063      0.168317          0.990099\n",
      "rand171  0.000024      0.702970          0.990099\n",
      "rand172  0.000026      0.712871          0.990099\n",
      "rand173  0.000011      0.940594          0.990099\n",
      "rand174  0.000032      0.485149          0.990099\n",
      "rand175  0.000016      0.861386          0.990099\n",
      "rand176  0.000021      0.693069          0.990099\n",
      "rand177  0.000042      0.396040          0.990099\n",
      "rand178  0.000058      0.237624          0.990099\n",
      "rand179  0.000016      0.881188          0.990099\n",
      "rand180  0.000069      0.158416          0.990099\n",
      "rand181  0.000151      0.029703          0.594059\n",
      "rand182  0.000006      0.970297          0.990099\n",
      "rand183  0.000013      0.891089          0.990099\n",
      "rand184  0.000050      0.287129          0.990099\n",
      "rand185  0.000019      0.762376          0.990099\n",
      "rand186  0.000036      0.475248          0.990099\n",
      "rand187  0.000053      0.217822          0.990099\n",
      "rand188  0.000012      0.881188          0.990099\n",
      "rand189  0.000017      0.871287          0.990099\n",
      "rand190  0.000004      1.000000          0.990099\n",
      "rand191  0.000091      0.089109          0.990099\n",
      "rand192  0.000022      0.772277          0.990099\n",
      "rand193  0.000035      0.445545          0.990099\n",
      "rand194  0.000082      0.079208          0.990099\n",
      "rand195  0.000107      0.029703          0.990099\n",
      "rand196  0.000035      0.455446          0.990099\n",
      "rand197  0.000053      0.257426          0.990099\n",
      "rand198  0.000026      0.633663          0.990099\n",
      "rand199  0.000046      0.277228          0.990099\n",
      "\n",
      "[200 rows x 3 columns]\n"
     ]
    }
   ],
   "source": [
    "var_names = ['rand' + str(i) for i in range(2,n_cols)]\n",
    "var_names = ['sum23', 'sum45'] + var_names\n",
    "info_matrix_df = pd.DataFrame(info_matrix, \n",
    "                              columns=['MI','Solo p-value', 'Unbiased p-value'], \n",
    "                              index=var_names)\n",
    "print(info_matrix_df)"
   ]
  },
  {
   "cell_type": "code",
   "execution_count": 13,
   "metadata": {},
   "outputs": [],
   "source": [
    "# Example #2\n",
    "# Friedman2 synthetic data set\n",
    "# http://scikit-learn.org/stable/modules/generated/sklearn.datasets.make_friedman2.html\n",
    "from sklearn import datasets\n",
    "\n",
    "x, y = datasets.make_friedman2(n_samples=100000, noise=0.5)\n",
    "n_bins_x = 5\n",
    "n_bins_y = 5\n",
    "\n",
    "n_reps = 100"
   ]
  },
  {
   "cell_type": "code",
   "execution_count": 15,
   "metadata": {},
   "outputs": [
    {
     "name": "stdout",
     "output_type": "stream",
     "text": [
      "Wall time: 253 ms\n"
     ]
    }
   ],
   "source": [
    "%time info_matrix = univariate.screen_univariate(x=x, y=y, \\\n",
    "                                                 method='discrete', measure='mi', \\\n",
    "                                                 n_bins_x=n_bins_x, n_bins_y=n_bins_y, \\\n",
    "                                                 n_reps=n_reps, target='cpu')"
   ]
  },
  {
   "cell_type": "code",
   "execution_count": 20,
   "metadata": {},
   "outputs": [
    {
     "data": {
      "text/plain": [
       "array([[1.6840208e-02, 9.9009899e-03, 9.9009899e-03],\n",
       "       [1.7804233e-02, 9.9009899e-03, 9.9009899e-03],\n",
       "       [5.0712138e-02, 9.9009899e-03, 9.9009899e-03],\n",
       "       [4.2264004e-05, 9.6039605e-01, 9.9009901e-01]], dtype=float32)"
      ]
     },
     "execution_count": 20,
     "metadata": {},
     "output_type": "execute_result"
    }
   ],
   "source": [
    "info_matrix[:4,:]"
   ]
  },
  {
   "cell_type": "code",
   "execution_count": 17,
   "metadata": {},
   "outputs": [],
   "source": [
    "# Example #3\n",
    "# Friedman3 synthetic data set\n",
    "# http://scikit-learn.org/stable/modules/generated/sklearn.datasets.make_friedman3.html\n",
    "\n",
    "x, y = datasets.make_friedman3(n_samples=100000, noise=0.5)\n",
    "n_bins_x = 5\n",
    "n_bins_y = 5\n",
    "\n",
    "n_reps = 100"
   ]
  },
  {
   "cell_type": "code",
   "execution_count": 19,
   "metadata": {},
   "outputs": [
    {
     "name": "stdout",
     "output_type": "stream",
     "text": [
      "Wall time: 271 ms\n"
     ]
    }
   ],
   "source": [
    "%time info_matrix = univariate.screen_univariate(x=x, y=y, \\\n",
    "                                                 method='discrete', measure='mi', \\\n",
    "                                                 n_bins_x=n_bins_x, n_bins_y=n_bins_y, \\\n",
    "                                                 n_reps=n_reps, target='cpu')"
   ]
  },
  {
   "cell_type": "code",
   "execution_count": 21,
   "metadata": {},
   "outputs": [
    {
     "data": {
      "text/plain": [
       "array([[1.6840208e-02, 9.9009899e-03, 9.9009899e-03],\n",
       "       [1.7804233e-02, 9.9009899e-03, 9.9009899e-03],\n",
       "       [5.0712138e-02, 9.9009899e-03, 9.9009899e-03],\n",
       "       [4.2264004e-05, 9.6039605e-01, 9.9009901e-01]], dtype=float32)"
      ]
     },
     "execution_count": 21,
     "metadata": {},
     "output_type": "execute_result"
    }
   ],
   "source": [
    "info_matrix[:4,:]"
   ]
  },
  {
   "cell_type": "code",
   "execution_count": 22,
   "metadata": {},
   "outputs": [],
   "source": [
    "# Example #4\n",
    "# make_hastie synthetic data set (classification)\n",
    "# http://scikit-learn.org/stable/modules/generated/sklearn.datasets.make_hastie_10_2.html\n",
    "\n",
    "x, y = datasets.make_hastie_10_2(n_samples=1000000)\n",
    "n_bins_x = 5\n",
    "n_bins_y = 2\n",
    "\n",
    "n_reps = 100"
   ]
  },
  {
   "cell_type": "code",
   "execution_count": 23,
   "metadata": {},
   "outputs": [
    {
     "name": "stdout",
     "output_type": "stream",
     "text": [
      "Wall time: 6.44 s\n"
     ]
    }
   ],
   "source": [
    "%time info_matrix = univariate.screen_univariate(x=x, y=y, \\\n",
    "                                                 method='discrete', measure='mi', \\\n",
    "                                                 n_bins_x=n_bins_x, n_bins_y=n_bins_y, \\\n",
    "                                                 n_reps=n_reps, target='cpu')"
   ]
  },
  {
   "cell_type": "code",
   "execution_count": 24,
   "metadata": {},
   "outputs": [],
   "source": [
    "# Example #5\n",
    "# Real-world data set (CrowdAnalytix Australian Open Tennis shot classification)\n",
    "# https://crowdanalytix.com/contests/from-ao-to-ai--predicting-how-points-end-in-tennis\n",
    "\n",
    "mens_train = pd.read_csv(\"data/mens_train_file.csv\")\n",
    "\n",
    "mens_target = mens_train.outcome.copy()\n",
    "d={\"W\":0, \"UE\":1, \"FE\":2}\n",
    "mens_target = mens_target.map(d)\n",
    "\n",
    "mens_train = mens_train.drop(['outcome', 'id', 'gender','train'], axis=1)\n",
    "\n",
    "hit_d = {\"B\":0, \"F\":1, \"U\":2, \"V\":3}\n",
    "mens_train.hitpoint = mens_train.hitpoint.map(hit_d)\n",
    "mens_train['previous.hitpoint'] = mens_train['previous.hitpoint'].map(hit_d)\n",
    "\n",
    "n_bins_x = 10\n",
    "n_bins_y = 3\n",
    "\n",
    "n_reps = 100"
   ]
  },
  {
   "cell_type": "code",
   "execution_count": 25,
   "metadata": {},
   "outputs": [
    {
     "data": {
      "text/plain": [
       "(5000, 24)"
      ]
     },
     "execution_count": 25,
     "metadata": {},
     "output_type": "execute_result"
    }
   ],
   "source": [
    "mens_train.shape"
   ]
  },
  {
   "cell_type": "code",
   "execution_count": 26,
   "metadata": {},
   "outputs": [
    {
     "name": "stdout",
     "output_type": "stream",
     "text": [
      "Wall time: 2.63 s\n"
     ]
    }
   ],
   "source": [
    "%time info_matrix = univariate.screen_univariate(x=mens_train.values.astype(float), \\\n",
    "                                                 y=mens_target.values, \\\n",
    "                                                 method='discrete', measure='mi', \\\n",
    "                                                 n_bins_x=n_bins_x, n_bins_y=n_bins_y, \\\n",
    "                                                 n_reps=100, cscv_folds=8, target='cpu')"
   ]
  },
  {
   "cell_type": "code",
   "execution_count": 27,
   "metadata": {},
   "outputs": [
    {
     "name": "stdout",
     "output_type": "stream",
     "text": [
      "                                          MI      Solo  Unbiased  P(<=median)\n",
      "net.clearance                       0.290100  0.009901  0.009901     0.000000\n",
      "previous.time.to.net                0.162295  0.009901  0.009901     0.000000\n",
      "player.impact.depth                 0.132864  0.009901  0.009901     0.000000\n",
      "previous.speed                      0.114182  0.009901  0.009901     0.000000\n",
      "speed                               0.090911  0.009901  0.009901     0.000000\n",
      "outside.sideline                    0.085856  0.009901  0.009901     0.000000\n",
      "depth                               0.084499  0.009901  0.009901     0.000000\n",
      "outside.baseline                    0.077132  0.009901  0.009901     0.000000\n",
      "previous.distance.from.sideline     0.075054  0.009901  0.009901     0.000000\n",
      "player.depth                        0.062107  0.009901  0.009901     0.028571\n",
      "opponent.depth                      0.060286  0.009901  0.009901     0.028571\n",
      "previous.net.clearance              0.058767  0.009901  0.009901     0.085714\n",
      "previous.depth                      0.048625  0.009901  0.009901     0.800000\n",
      "distance.from.sideline              0.043112  0.009901  0.009901     1.000000\n",
      "player.distance.travelled           0.040821  0.009901  0.009901     0.985714\n",
      "previous.hitpoint                   0.039870  0.009901  0.009901     0.985714\n",
      "rally                               0.023005  0.009901  0.009901     1.000000\n",
      "player.impact.distance.from.center  0.018432  0.009901  0.009901     1.000000\n",
      "opponent.distance.from.center       0.018102  0.009901  0.009901     1.000000\n",
      "hitpoint                            0.016273  0.009901  0.009901     1.000000\n",
      "server.is.impact.player             0.012379  0.009901  0.009901     1.000000\n",
      "player.distance.from.center         0.011774  0.009901  0.009901     1.000000\n",
      "serve                               0.007562  0.009901  0.009901     1.000000\n",
      "same.side                           0.004401  0.009901  0.009901     1.000000\n"
     ]
    }
   ],
   "source": [
    "info_matrix_df = pd.DataFrame(info_matrix, \n",
    "                              columns=['MI','Solo', 'Unbiased', 'P(<=median)'], \n",
    "                              index=mens_train.columns)\n",
    "print(info_matrix_df.sort_values('MI', ascending=0))"
   ]
  },
  {
   "cell_type": "code",
   "execution_count": null,
   "metadata": {},
   "outputs": [],
   "source": [
    "# Example #6\n",
    "# Random data set for timing purposes - no associations\n",
    "# 500k x 500 vars x 100 reps\n",
    "n_obs = 500000\n",
    "n_cols = 500\n",
    "\n",
    "x = np.random.random_sample(n_obs * n_cols)\n",
    "x = np.reshape(x, (n_obs, n_cols))\n",
    "\n",
    "y = np.random.randint(1,4,n_obs).astype(np.float64)\n",
    "\n",
    "n_bins_x = 5\n",
    "n_bins_y = 3\n",
    "\n",
    "n_reps = 100"
   ]
  },
  {
   "cell_type": "code",
   "execution_count": null,
   "metadata": {},
   "outputs": [],
   "source": [
    "import numba\n",
    "numba.config.NUMBA_DEFAULT_NUM_THREADS"
   ]
  },
  {
   "cell_type": "code",
   "execution_count": null,
   "metadata": {},
   "outputs": [],
   "source": [
    "%time info_matrix = screen_univariate(x, y, method='discrete', measure='mi', \\\n",
    "                                      n_bins_x=n_bins_x, n_bins_y=n_bins_y, \\\n",
    "                                      n_reps=n_reps, target='cpu')"
   ]
  },
  {
   "cell_type": "code",
   "execution_count": null,
   "metadata": {},
   "outputs": [],
   "source": [
    "# Test on larger instance\n",
    "# 100k x 1k vars x 100 reps\n",
    "%time info_matrix = screen_univariate(x, y, method='discrete', measure='ur', \\\n",
    "                                      n_bins_x=n_bins_x, n_bins_y=n_bins_y, \\\n",
    "                                      n_reps=n_reps, cscv_folds=8, target='cpu')"
   ]
  }
 ],
 "metadata": {
  "kernelspec": {
   "display_name": "Python 3",
   "language": "python",
   "name": "python3"
  },
  "language_info": {
   "codemirror_mode": {
    "name": "ipython",
    "version": 3
   },
   "file_extension": ".py",
   "mimetype": "text/x-python",
   "name": "python",
   "nbconvert_exporter": "python",
   "pygments_lexer": "ipython3",
   "version": "3.6.4"
  }
 },
 "nbformat": 4,
 "nbformat_minor": 2
}
